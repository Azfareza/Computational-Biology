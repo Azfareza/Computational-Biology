{
  "nbformat": 4,
  "nbformat_minor": 0,
  "metadata": {
    "colab": {
      "provenance": [],
      "authorship_tag": "ABX9TyN7G36EaeuJmsAY5p9RJfvr",
      "include_colab_link": true
    },
    "kernelspec": {
      "name": "python3",
      "display_name": "Python 3"
    },
    "language_info": {
      "name": "python"
    }
  },
  "cells": [
    {
      "cell_type": "markdown",
      "metadata": {
        "id": "view-in-github",
        "colab_type": "text"
      },
      "source": [
        "<a href=\"https://colab.research.google.com/github/Azfareza/Phyton-Project/blob/main/Untitled0.ipynb\" target=\"_parent\"><img src=\"https://colab.research.google.com/assets/colab-badge.svg\" alt=\"Open In Colab\"/></a>"
      ]
    },
    {
      "cell_type": "markdown",
      "source": [],
      "metadata": {
        "id": "Ji2mEVTmg7Az"
      }
    },
    {
      "cell_type": "code",
      "execution_count": null,
      "metadata": {
        "colab": {
          "base_uri": "https://localhost:8080/"
        },
        "id": "49RwxHBkrV-3",
        "outputId": "9ed9a4b9-8a93-4c77-9c85-4ea93a1062d1"
      },
      "outputs": [
        {
          "output_type": "stream",
          "name": "stdout",
          "text": [
            "\n",
            "\n",
            " NEWTON RAPHSON METHOD IMPLEMENTATION ***\n",
            "Iteration-1, x1 = 1.758621 and f(x1) = 3.084833\n",
            "Iteration-2, x1 = 1.627666 and f(x1) = 1.486009\n",
            "Iteration-3, x1 = 1.556551 and f(x1) = 0.759824\n",
            "Iteration-4, x1 = 1.517659 and f(x1) = 0.402922\n",
            "Iteration-5, x1 = 1.496250 and f(x1) = 0.218250\n",
            "Iteration-6, x1 = 1.484409 and f(x1) = 0.119660\n",
            "Iteration-7, x1 = 1.477842 and f(x1) = 0.066055\n",
            "Iteration-8, x1 = 1.474194 and f(x1) = 0.036604\n",
            "Iteration-9, x1 = 1.472164 and f(x1) = 0.020328\n",
            "Iteration-10, x1 = 1.471035 and f(x1) = 0.011302\n",
            "Iteration-11, x1 = 1.470407 and f(x1) = 0.006288\n",
            "Iteration-12, x1 = 1.470057 and f(x1) = 0.003500\n",
            "Iteration-13, x1 = 1.469862 and f(x1) = 0.001948\n",
            "Iteration-14, x1 = 1.469754 and f(x1) = 0.001085\n",
            "Iteration-15, x1 = 1.469693 and f(x1) = 0.000604\n",
            "Iteration-16, x1 = 1.469660 and f(x1) = 0.000336\n",
            "Iteration-17, x1 = 1.469641 and f(x1) = 0.000187\n",
            "Iteration-18, x1 = 1.469631 and f(x1) = 0.000104\n",
            "Iteration-19, x1 = 1.469625 and f(x1) = 0.000058\n",
            "Iteration-20, x1 = 1.469621 and f(x1) = 0.000032\n",
            "Iteration-21, x1 = 1.469620 and f(x1) = 0.000018\n",
            "Iteration-22, x1 = 1.469619 and f(x1) = 0.000010\n",
            "Iteration-23, x1 = 1.469618 and f(x1) = 0.000006\n",
            "\n",
            "Required root is: 1.46961814\n"
          ]
        }
      ],
      "source": [
        "# 1. Newton-Raphson\n",
        "# Defining Function\n",
        "def f(x):\n",
        "    return 2*x**3-5*x+1\n",
        "\n",
        "# Defining derivative of function\n",
        "def g(x):\n",
        "    return 6*x**2+5\n",
        "\n",
        "# Implementing Newton Raphson Method\n",
        "\n",
        "def newtonRaphson(x0,e,N):\n",
        "    print('\\n\\n NEWTON RAPHSON METHOD IMPLEMENTATION ***')\n",
        "    step = 1\n",
        "    flag = 1\n",
        "    condition = True\n",
        "    while condition:\n",
        "        if g(x0) == 0.0:\n",
        "            print('Divide by zero error!')\n",
        "            break\n",
        "\n",
        "        x1 = x0 - f(x0)/g(x0)\n",
        "        print('Iteration-%d, x1 = %0.6f and f(x1) = %0.6f' % (step, x1, f(x1)))\n",
        "        x0 = x1\n",
        "        step = step + 1\n",
        "\n",
        "        if step > N:\n",
        "            flag = 0\n",
        "            break\n",
        "\n",
        "        condition = abs(f(x1)) > e\n",
        "\n",
        "    if flag==1:\n",
        "        print('\\nRequired root is: %0.8f' % x1)\n",
        "    else:\n",
        "        print('\\nNot Convergent.')\n",
        "\n",
        "\n",
        "# Input Section\n",
        "x0 = 2\n",
        "e = 0.00001\n",
        "N = 100\n",
        "\n",
        "# Starting Newton Raphson Method\n",
        "newtonRaphson(x0,e,N)"
      ]
    },
    {
      "cell_type": "code",
      "source": [
        "# 2. Bisection\n",
        "# Defining Function\n",
        "def f(x):\n",
        "    return x**2 - 3\n",
        "\n",
        "# Implementing Bisection Method\n",
        "def bisection(x0,x1,e):\n",
        "    step = 1\n",
        "    print('\\n\\n* BISECTION METHOD IMPLEMENTATION **')\n",
        "    condition = True\n",
        "    while condition:\n",
        "        x2 = (x0 + x1)/2\n",
        "        print('Iteration-%d, x2 = %0.6f and f(x2) = %0.6f' % (step, x2, f(x2)))\n",
        "\n",
        "        if f(x0) * f(x2) < 0:\n",
        "            x1 = x2\n",
        "        else:\n",
        "            x0 = x2\n",
        "\n",
        "        step = step + 1\n",
        "        condition = abs(f(x2)) > e\n",
        "\n",
        "    print('\\nRequired Root is : %0.8f' % x2)\n",
        "\n",
        "# Input Section\n",
        "x0 = 1\n",
        "x1 = 3\n",
        "e = 0.00001\n",
        "\n",
        "# Checking Correctness of initial guess values and bisecting\n",
        "if f(x0) * f(x1) > 0.0:\n",
        "    print('Given guess values do not bracket the root.')\n",
        "    print('Try Again with different guess values.')\n",
        "    print(f(x0))\n",
        "    print(f(x1))\n",
        "else:\n",
        "    print(f(x0))\n",
        "    print(f(x1))\n",
        "    bisection(x0,x1,e)"
      ],
      "metadata": {
        "colab": {
          "base_uri": "https://localhost:8080/"
        },
        "id": "aa33Fptga-2n",
        "outputId": "e92ad0c6-caa4-42be-8501-ed64eb7ac96e"
      },
      "execution_count": null,
      "outputs": [
        {
          "output_type": "stream",
          "name": "stdout",
          "text": [
            "-2\n",
            "6\n",
            "\n",
            "\n",
            "* BISECTION METHOD IMPLEMENTATION **\n",
            "Iteration-1, x2 = 2.000000 and f(x2) = 1.000000\n",
            "Iteration-2, x2 = 1.500000 and f(x2) = -0.750000\n",
            "Iteration-3, x2 = 1.750000 and f(x2) = 0.062500\n",
            "Iteration-4, x2 = 1.625000 and f(x2) = -0.359375\n",
            "Iteration-5, x2 = 1.687500 and f(x2) = -0.152344\n",
            "Iteration-6, x2 = 1.718750 and f(x2) = -0.045898\n",
            "Iteration-7, x2 = 1.734375 and f(x2) = 0.008057\n",
            "Iteration-8, x2 = 1.726562 and f(x2) = -0.018982\n",
            "Iteration-9, x2 = 1.730469 and f(x2) = -0.005478\n",
            "Iteration-10, x2 = 1.732422 and f(x2) = 0.001286\n",
            "Iteration-11, x2 = 1.731445 and f(x2) = -0.002097\n",
            "Iteration-12, x2 = 1.731934 and f(x2) = -0.000406\n",
            "Iteration-13, x2 = 1.732178 and f(x2) = 0.000440\n",
            "Iteration-14, x2 = 1.732056 and f(x2) = 0.000017\n",
            "Iteration-15, x2 = 1.731995 and f(x2) = -0.000195\n",
            "Iteration-16, x2 = 1.732025 and f(x2) = -0.000089\n",
            "Iteration-17, x2 = 1.732040 and f(x2) = -0.000036\n",
            "Iteration-18, x2 = 1.732048 and f(x2) = -0.000010\n",
            "\n",
            "Required Root is : 1.73204803\n"
          ]
        }
      ]
    },
    {
      "cell_type": "code",
      "source": [
        "import numpy as np\n",
        "import matplotlib\n",
        "\n",
        "x1 = 0\n",
        "x2 = 0\n",
        "x3 = 0\n",
        "x4 = 0\n",
        "epsilon = 0.01\n",
        "converged = False\n",
        "\n",
        "x_old = np.array([x1, x2, x3, x4])\n",
        "\n",
        "print('iteration results')\n",
        "print('k,   x1,   x2,   x3 ,  x4')\n",
        "for k in range (1,21):\n",
        "  x1 = (12 - 2*x2 - 1*x3 - 1*x4)\n",
        "  x2 = (12 - 2*x1 - 4*x3 + 1*x4)\n",
        "  x3 = (19 - 2*x1 - 1*x2 - 3*x4)\n",
        "  x4 = (19 - 3*x1 - 1*x2 - 2*x3)/2\n",
        "  x = np.array( [x1, x2, x3, x4])\n",
        "\n",
        "  #check if it is smaller than theshould\n",
        "  dx = np.sqrt(np.dot(x-x_old, x-x_old))\n",
        "\n",
        "  print(\"%d, %.4f, %.4f, %.4f, %.4f\"%(k, x1, x2, x3, x4))\n",
        "  if dx < epsilon:\n",
        "    converged = True\n",
        "    print('Converged!')\n",
        "    break\n",
        "\n",
        "  #assign the latest x value to the old value\n",
        "  x_old = x\n",
        "\n",
        "if not converged:\n",
        "  print('Functions cant converge after 20 iterations')"
      ],
      "metadata": {
        "colab": {
          "base_uri": "https://localhost:8080/"
        },
        "id": "wlwJ71mNh5IM",
        "outputId": "921705cc-32ca-4028-d6af-750e0ae8cd01"
      },
      "execution_count": null,
      "outputs": [
        {
          "output_type": "stream",
          "name": "stdout",
          "text": [
            "iteration results\n",
            "k,   x1,   x2,   x3 ,  x4\n",
            "1, 12.0000, -12.0000, 7.0000, -9.5000\n",
            "2, 38.5000, -102.5000, 73.0000, -70.0000\n",
            "3, 214.0000, -778.0000, 579.0000, -501.5000\n",
            "4, 1490.5000, -5786.5000, 4329.0000, -3662.0000\n",
            "5, 10918.0000, -42802.0000, 31971.0000, -26937.5000\n",
            "6, 80582.5000, -315974.5000, 235641.0000, -198518.0000\n",
            "7, 594838.0000, -2330746.0000, 1736643.0000, -1463517.5000\n",
            "8, 4388378.5000, -17186834.5000, 12800649.0000, -10789790.0000\n",
            "9, 32362822.0000, -126718018.0000, 94361763.0000, -79546977.5000\n",
            "10, 238621262.5000, -934236542.5000, 695634969.0000, -586448582.0000\n",
            "11, 1759286710.0000, -6887561866.0000, 5128334211.0000, -4323483333.5000\n",
            "12, 12970272866.5000, -50777365898.5000, 37807270185.0000, -31873996526.0000\n",
            "13, 95621458150.0000, -374345993554.0000, 278725066851.0000, -234984257289.5000\n",
            "14, 704951177558.5000, -2759786879798.5000, 2054837296569.0000, -1732370622998.0000\n",
            "15, 5197107086038.0000, -20345933981338.0000, 15148831678275.0000, -12771525316653.5000\n",
            "16, 38314561601066.5000, -149995975231874.5000, 111681427979721.0000, -94155282765374.0000\n",
            "17, 282465805249414.0000, -1105812605183074.0000, 823346842980387.0000, -694139248262961.5000\n",
            "18, 2082417615648734.5000, -8152361851481966.0000, 6069944364973400.0000, -5117389862705510.0000\n",
            "19, 15352169200696054.0000, -60101505723991208.0000, 44749336910715648.0000, -37726837849764112.0000\n",
            "20, 113180512387030896.0000, -443085210266688512.0000, 329904699041919104.0000, -278132862489121184.0000\n",
            "Functions cant converge after 20 iterations\n"
          ]
        }
      ]
    },
    {
      "cell_type": "code",
      "source": [
        "import numpy as np\n",
        "import matplotlib.pyplot as plt\n",
        "plt.style.use(\"seaborn-poster\")\n",
        "%matplotlib inline\n",
        "\n",
        "def divided_diff(x, y):\n",
        "  '''function to calculate the divided difference table'''\n",
        "  n = len(y)\n",
        "  az = np.zeros([n, n])\n",
        "  # the first column is y\n",
        "  az[:,0] = y\n",
        "  for j in range(1, n):\n",
        "    for i in range(n-j):\n",
        "      az[i][j] = (az[i+1][j-1] - az[i][j-1]) / (x[i+j] - x[i])\n",
        "  return az\n",
        "\n",
        "def newton_poly(az, x_data, x):\n",
        "  '''evaluate the Newton polynomial at x'''\n",
        "  n = len(x_data) - 1\n",
        "  p = az[n]\n",
        "  for k in range(1, n+1):\n",
        "    p = az[n-k] + (x - x_data[n-k]) * p\n",
        "  return p\n",
        "\n",
        "x = np.array([2.6, 3.1, 4.6, 6.5, 8.5, 11.0, 15.2, 34.7, 65.8, 69.4, ])\n",
        "y = np.array([60, 120, 180, 240, 300, 360, 420, 480, 540, 600])\n",
        "# get the divided different az\n",
        "a_s = divided_diff(x, y)[0, :]\n",
        "\n",
        "# evaluate on new data points\n",
        "x_new = np.arange(2,70,1)\n",
        "y_new = newton_poly(a_s, x, x_new)\n",
        "\n",
        "print(\"F sejauh 50 cm :\", y_new[48])\n",
        "plt.plot(x_new, y_new, 'b-')\n",
        "plt.plot(x, y, 'ro')\n",
        "plt.plot(x_new[48], y_new[48], 'co')\n",
        "plt.show()"
      ],
      "metadata": {
        "colab": {
          "base_uri": "https://localhost:8080/",
          "height": 310
        },
        "id": "iBq0bvlCh2SB",
        "outputId": "077ce8f2-ad35-4d47-9ca9-f33b321d5b99"
      },
      "execution_count": null,
      "outputs": [
        {
          "output_type": "stream",
          "name": "stdout",
          "text": [
            "F sejauh 50 cm : 2353569.4747006674\n"
          ]
        },
        {
          "output_type": "display_data",
          "data": {
            "text/plain": [
              "<Figure size 432x288 with 1 Axes>"
            ],
            "image/png": "[encoded data removed]"
          },
          "metadata": {
            "needs_background": "light"
          }
        }
      ]
    },
    {
      "cell_type": "code",
      "source": [
        "import math\n",
        "import numpy as np\n",
        "import matplotlib.pyplot as plt\n",
        "\n",
        "dataX = np.array([2.6, 3.1, 4.6, 6.5, 8.5, 11.0, 15.2, 34.7, 65.8, 69.4])\n",
        "dataY = np.array([60, 120, 180, 240, 300, 360, 420,480, 540, 600])\n",
        "\n",
        "a = np.vstack((x, np.ones(len(x)))).T\n",
        "\n",
        "x_r = 50\n",
        "pinv = np.linalg.pinv(a)\n",
        "awa = pinv.dot(y)\n",
        "print(awa)\n",
        "\n",
        "print(\" y = \", awa[0], \"x\", \"+\", awa[1],)\n",
        "y_r = awa[0]*x_r + awa[1]\n",
        "print(\"x_r = \", x_r)\n",
        "print(\"y_r = \", y_r)\n",
        "print(\"x_r = \", x_r)\n",
        "print(\"y_r = \", y_r)\n",
        "plt.figure(figsize = (8,6))\n",
        "plt.plot(x, awa[0] * x + awa[1], \"c\")\n",
        "plt.plot(x,y, \"b.\")\n",
        "plt.plot(x_r, y_r, \"ro\")\n",
        "plt.xlabel('Perpanjangan Pegas (x)')\n",
        "plt.ylabel('Gaya(y)')\n",
        "plt.show"
      ],
      "metadata": {
        "colab": {
          "base_uri": "https://localhost:8080/",
          "height": 530
        },
        "id": "-h5iQfBos0NV",
        "outputId": "67aeda0b-305a-409d-c601-ef9508061fac"
      },
      "execution_count": null,
      "outputs": [
        {
          "output_type": "stream",
          "name": "stdout",
          "text": [
            "[  6.1447855  193.95444902]\n",
            " y =  6.144785500349101 x + 193.95444902227084\n",
            "x_r =  50\n",
            "y_r =  501.1937240397259\n",
            "x_r =  50\n",
            "y_r =  501.1937240397259\n"
          ]
        },
        {
          "output_type": "execute_result",
          "data": {
            "text/plain": [
              "<function matplotlib.pyplot.show>"
            ]
          },
          "metadata": {},
          "execution_count": 14
        },
        {
          "output_type": "display_data",
          "data": {
            "text/plain": [
              "<Figure size 576x432 with 1 Axes>"
            ],
            "image/png": "[encoded data removed]"
          },
          "metadata": {
            "needs_background": "light"
          }
        }
      ]
    },
    {
      "cell_type": "code",
      "source": [
        "import numpy as np\n",
        "import math\n",
        "\n",
        "# Diketahui\n",
        "x = math.pi\n",
        "y = 0\n",
        "s = math.sin(math.radians(2*180))\n",
        "# Ubah n sesuai dengan keinginan(Coba-coba)\n",
        "n = 4\n",
        "\n",
        "# Mencari ekspansi deret taylor\n",
        "print(\"-------\\nIterasi\\n-------\")\n",
        "for n in range(n):\n",
        "  y += ((-1)**n * (2*x)**(2*n+1)) / np.math.factorial(2*n+1) # persamaan deret taylor sin(2x)\n",
        "  print(f'Menggunakan ordo - {n} , didapatkan %.20f' %y)\n",
        "\n",
        "print(\"-------\\nSummary\\n-------\")\n",
        "\n",
        "# Mencari t_error menggunakan rumus truncation error yang sudah diturunkan\n",
        "t_error = ((2**n+1)*math.sin(math.radians(90))*np.pi**(n+1))/np.math.factorial(n+1)\n",
        "\n",
        "if abs(t_error) > abs(s-y):\n",
        "    print('Sudah negligible.')\n",
        "    print('[INFO]Ditemukan negligible pada orde ' + str(n))\n",
        "    print(f'[INFO]Perbedaan t_error dengan abs(y-s) = {abs(t_error - abs(y-s))}')\n",
        "    print(f'[INFO]t_error > abs(y-s) | {t_error} > {abs(y-s)}')\n",
        "else:\n",
        "    print('Belum negligible. Perbedaan terlalu besar')\n",
        "    print(f'[INFO]Perbedaan t_error dengan abs(y-s) = {abs(t_error - abs(y-s))}')\n",
        "    print(f'[INFO]t_error < abs(y-s) | {t_error} < {abs(y-s)}')"
      ],
      "metadata": {
        "colab": {
          "base_uri": "https://localhost:8080/"
        },
        "id": "wQI3izsJe7xq",
        "outputId": "b319c732-8138-42db-f792-9d32c09e836e"
      },
      "execution_count": null,
      "outputs": [
        {
          "output_type": "stream",
          "name": "stdout",
          "text": [
            "-------\n",
            "Iterasi\n",
            "-------\n",
            "Menggunakan ordo - 0 , didapatkan 6.28318530717958623200\n",
            "Menggunakan ordo - 1 , didapatkan -35.05851693322016870979\n",
            "Menggunakan ordo - 2 , didapatkan 46.54673234285487382067\n",
            "Menggunakan ordo - 3 , didapatkan -30.15912741020648724088\n",
            "-------\n",
            "Summary\n",
            "-------\n",
            "Sudah negligible.\n",
            "[INFO]Ditemukan negligible pada orde 3\n",
            "[INFO]Perbedaan t_error dengan abs(y-s) = 6.3692817275444185\n",
            "[INFO]t_error > abs(y-s) | 36.528409137750906 > 30.159127410206487\n"
          ]
        }
      ]
    }
  ]
}